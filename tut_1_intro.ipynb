{
 "cells": [
  {
   "cell_type": "code",
   "execution_count": 1,
   "id": "6c942cdd-7281-4f72-8a74-845fc0165afc",
   "metadata": {},
   "outputs": [],
   "source": [
    "import libcellml"
   ]
  }
 ],
 "metadata": {
  "kernelspec": {
   "display_name": "Python 3 (ipykernel)",
   "language": "python",
   "name": "python3"
  },
  "language_info": {
   "codemirror_mode": {
    "name": "ipython",
    "version": 3
   },
   "file_extension": ".py",
   "mimetype": "text/x-python",
   "name": "python",
   "nbconvert_exporter": "python",
   "pygments_lexer": "ipython3",
   "version": "3.13.0"
  }
 },
 "nbformat": 4,
 "nbformat_minor": 5
}
