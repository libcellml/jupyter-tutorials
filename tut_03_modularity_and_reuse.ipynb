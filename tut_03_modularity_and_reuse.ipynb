{
 "cells": [
  {
   "cell_type": "markdown",
   "id": "a8f18f03-d781-4192-8e53-12c8c733fe2a",
   "metadata": {},
   "source": [
    "# Modularity and Reuse"
   ]
  },
  {
   "cell_type": "markdown",
   "id": "6e4a1a98-1f8c-40d3-8144-3f4d04034584",
   "metadata": {},
   "source": [
    "In the tutorial *tut_02_sharks_and_fish* we created a model from scratch but we tied the parameters and initial states of the state vector into the model.\n",
    "Doing this makes it hard to reuse the model and the model itself is not modular.\n",
    "Constructing models into modules makes reuse much more likely and in some cases possible."
   ]
  },
  {
   "cell_type": "markdown",
   "id": "ba763942-befd-4499-b7b4-a53cbce89035",
   "metadata": {},
   "source": [
    "To make the sharks and fish model more reusable we want to separate out the initialisation of the parameters and states in the model.\n",
    "We will start with model we finished with in *tut_02_sharks_and_fish* and make changes to modularise the model.\n",
    "We will also need to separate out the units used into its own model so we can share the units across the other models."
   ]
  },
  {
   "cell_type": "markdown",
   "id": "d6062717-a263-47de-8ef4-a9818b6f62ae",
   "metadata": {},
   "source": [
    "First of all we will import the libcellml package."
   ]
  },
  {
   "cell_type": "code",
   "execution_count": null,
   "id": "2ea48876-d16f-4b5f-b4e8-0faf5228452b",
   "metadata": {},
   "outputs": [],
   "source": [
    "import libcellml"
   ]
  },
  {
   "cell_type": "markdown",
   "id": "7fb01c6a-b448-441d-89a1-f0d053737d31",
   "metadata": {},
   "source": [
    "Next we will breakdown the original model into four models:\n",
    "* Units model\n",
    "* Parameters model\n",
    "* State model\n",
    "* Computiational model"
   ]
  },
  {
   "cell_type": "markdown",
   "id": "ba494cf1-924c-4524-a96b-6e0b5be53f32",
   "metadata": {},
   "source": [
    "Construct units model."
   ]
  },
  {
   "cell_type": "code",
   "execution_count": null,
   "id": "b13262b5-2468-442c-9b81-30dd0da26350",
   "metadata": {},
   "outputs": [],
   "source": [
    "# Construct units model.\n",
    "units_model = libcellml.Model(\"units_model\")\n",
    "\n",
    "month = libcellml.Units(\"month\")\n",
    "month.addUnit(\"second\", 0, 1, 2592000)\n",
    "units_model.addUnits(month)\n",
    "\n",
    "per_month = libcellml.Units(\"per_month\")\n",
    "per_month.addUnit(\"month\", -1)\n",
    "units_model.addUnits(per_month)\n",
    "\n",
    "number_of_sharks = libcellml.Units(\"number_of_sharks\")\n",
    "units_model.addUnits(number_of_sharks)\n",
    "\n",
    "thousands_of_fish = libcellml.Units(\"thousands_of_fish\")\n",
    "units_model.addUnits(thousands_of_fish)\n",
    "\n",
    "per_shark_month = libcellml.Units(\"per_shark_month\")\n",
    "per_shark_month.addUnit(\"per_month\")\n",
    "per_shark_month.addUnit(\"number_of_sharks\", -1)\n",
    "units_model.addUnits(per_shark_month)\n",
    "\n",
    "\n",
    "per_1000fish_month = libcellml.Units(\"per_1000fish_month\")\n",
    "per_1000fish_month.addUnit(\"per_month\")\n",
    "per_1000fish_month.addUnit(\"thousands_of_fish\", -1)\n",
    "units_model.addUnits(per_1000fish_month)\n"
   ]
  },
  {
   "cell_type": "markdown",
   "id": "c8b5dc4b-e15b-40c0-b0ee-4d3c0faa4982",
   "metadata": {},
   "source": [
    "Construct parameters model."
   ]
  },
  {
   "cell_type": "code",
   "execution_count": null,
   "id": "dbdc4779-4bfc-414e-9bd3-c81bb782d925",
   "metadata": {},
   "outputs": [],
   "source": [
    "parameters_model = libcellml.Model(\"parameters_model\")\n",
    "parameters_component = libcellml.Component(\"parameters\")\n",
    "parameters_model.addComponent(parameters_component)\n",
    "\n",
    "parameters_a = libcellml.Variable(\"a\")\n",
    "parameters_component.addVariable(parameters_a)\n",
    "parameters_b = libcellml.Variable(\"b\")\n",
    "parameters_component.addVariable(parameters_b)\n",
    "parameters_d = libcellml.Variable(\"d\")\n",
    "parameters_component.addVariable(parameters_d)\n",
    "\n",
    "parameters_a.setInitialValue(-0.8)\n",
    "parameters_b.setInitialValue(0.3)\n",
    "parameters_d.setInitialValue(-0.6)\n",
    "\n",
    "parameters_a.setInterfaceType(\"public\")\n",
    "parameters_b.setInterfaceType(\"public\")\n",
    "parameters_d.setInterfaceType(\"public\")"
   ]
  },
  {
   "cell_type": "markdown",
   "id": "ef3ba27c-f6b2-4287-ae57-8b280e044e9c",
   "metadata": {},
   "source": [
    "Construct states model."
   ]
  },
  {
   "cell_type": "code",
   "execution_count": null,
   "id": "c727751f-a55a-4ce6-891d-8f27f0eacc56",
   "metadata": {},
   "outputs": [],
   "source": [
    "states_model = libcellml.Model(\"states_model\")\n",
    "states_component = libcellml.Component(\"states\")\n",
    "states_model.addComponent(states_component)\n",
    "\n",
    "states_sharks = libcellml.Variable(\"y_s\")\n",
    "states_component.addVariable(states_sharks)\n",
    "states_fish = libcellml.Variable(\"y_f\")\n",
    "states_component.addVariable(states_fish)\n",
    "\n",
    "states_sharks.setInitialValue(1.0)\n",
    "states_fish.setInitialValue(2.0)\n",
    "\n",
    "states_sharks.setInterfaceType(\"public\")\n",
    "states_fish.setInterfaceType(\"public\")"
   ]
  },
  {
   "cell_type": "markdown",
   "id": "e2ae6327-cda8-4d64-8fd1-3a26fd8c9d04",
   "metadata": {},
   "source": [
    "Construct computational model."
   ]
  },
  {
   "cell_type": "code",
   "execution_count": null,
   "id": "aeb17577-41e0-41eb-bd80-8c5fce8756f5",
   "metadata": {},
   "outputs": [],
   "source": [
    "computational_model = libcellml.Model(\"sharks_v_fish\")\n",
    "sea_component = libcellml.Component(\"sea\")\n",
    "computational_model.addComponent(sea_component)\n",
    "with open(\"resources/sharks_and_fish.mathml\") as fh:\n",
    "    mathml = fh.read()\n",
    "\n",
    "sea_component.setMath(mathml)\n",
    "\n",
    "time = libcellml.Variable(\"time\")\n",
    "sea_component.addVariable(time)\n",
    "sharks = libcellml.Variable(\"y_s\")\n",
    "sea_component.addVariable(sharks)\n",
    "fish = libcellml.Variable(\"y_f\")\n",
    "sea_component.addVariable(fish)\n",
    "a = libcellml.Variable(\"a\")\n",
    "sea_component.addVariable(a)\n",
    "b = libcellml.Variable(\"b\")\n",
    "sea_component.addVariable(b)\n",
    "c = libcellml.Variable(\"c\")\n",
    "sea_component.addVariable(c)\n",
    "d = libcellml.Variable(\"d\")\n",
    "sea_component.addVariable(d)\n"
   ]
  },
  {
   "cell_type": "markdown",
   "id": "75ce0c8c-a5f8-46aa-a784-76227e92c78b",
   "metadata": {},
   "source": [
    "Only the *Units* model is a complete model, the remaining models are all missing required informatoin.\n",
    "The first piece of required information is the units definitions for the *Units*, *Parameters*, and *Computational* models.\n",
    "We do this by importing the units defined in the *Units* model, the libCellML *Importer* helps us with this task."
   ]
  },
  {
   "cell_type": "code",
   "execution_count": null,
   "id": "6a358ec9-cc6e-4f90-b433-bfb3ae55fe78",
   "metadata": {},
   "outputs": [],
   "source": [
    "units_import_source = libcellml.ImportSource()\n",
    "units_import_source.setUrl('shark_v_fish_units.cellml')\n",
    "units_import_source.setModel(units_model)\n",
    "\n",
    "imported_month = libcellml.Units(\"month\")\n",
    "imported_month.setImportReference(\"month\")\n",
    "imported_month.setImportSource(units_import_source)\n",
    "\n",
    "imported_per_month = libcellml.Units(\"per_month\")\n",
    "imported_per_month.setImportReference(\"per_month\")\n",
    "imported_per_month.setImportSource(units_import_source)\n",
    "\n",
    "imported_number_of_sharks = libcellml.Units(\"number_of_sharks\")\n",
    "imported_number_of_sharks.setImportReference(\"number_of_sharks\")\n",
    "imported_number_of_sharks.setImportSource(units_import_source)\n",
    "\n",
    "imported_thousands_of_fish = libcellml.Units(\"thousands_of_fish\")\n",
    "imported_thousands_of_fish.setImportReference(\"thousands_of_fish\")\n",
    "imported_thousands_of_fish.setImportSource(units_import_source)\n",
    "\n",
    "imported_per_shark_month = libcellml.Units(\"per_shark_month\")\n",
    "imported_per_shark_month.setImportReference(\"per_shark_month\")\n",
    "imported_per_shark_month.setImportSource(units_import_source)\n",
    "\n",
    "imported_per_1000fish_month = libcellml.Units(\"per_1000fish_month\")\n",
    "imported_per_1000fish_month.setImportReference(\"per_1000fish_month\")\n",
    "imported_per_1000fish_month.setImportSource(units_import_source)\n"
   ]
  },
  {
   "cell_type": "markdown",
   "id": "5e4888d7-e5b9-441a-8c1f-e50bfcbfd4e7",
   "metadata": {},
   "source": [
    "Now we have to apply these imported units to the appropriate variable."
   ]
  },
  {
   "cell_type": "code",
   "execution_count": null,
   "id": "4e8463e2-787d-457c-bce7-9e407a47fdcb",
   "metadata": {},
   "outputs": [],
   "source": [
    "computational_model.addUnits(imported_month)\n",
    "computational_model.addUnits(imported_per_month)\n",
    "computational_model.addUnits(imported_thousands_of_fish)\n",
    "computational_model.addUnits(imported_number_of_sharks)\n",
    "computational_model.addUnits(imported_per_shark_month)\n",
    "computational_model.addUnits(imported_per_1000fish_month)\n",
    "\n",
    "parameters_imported_per_month = imported_per_month.clone()\n",
    "parameters_imported_per_shark_month = imported_per_shark_month.clone()\n",
    "parameters_imported_per_1000fish_month = imported_per_1000fish_month.clone()\n",
    "parameters_model.addUnits(parameters_imported_per_month)\n",
    "parameters_model.addUnits(parameters_imported_per_shark_month)\n",
    "parameters_model.addUnits(parameters_imported_per_1000fish_month)\n",
    "\n",
    "states_imported_thousands_of_fish = imported_thousands_of_fish.clone()\n",
    "states_imported_number_of_sharks = imported_number_of_sharks.clone()\n",
    "states_model.addUnits(states_imported_thousands_of_fish)\n",
    "states_model.addUnits(states_imported_number_of_sharks)\n",
    "\n",
    "time.setUnits(imported_month)\n",
    "\n",
    "a.setUnits(imported_per_month)\n",
    "parameters_a.setUnits(parameters_imported_per_month)\n",
    "b.setUnits(imported_per_shark_month)\n",
    "parameters_b.setUnits(parameters_imported_per_shark_month)\n",
    "c.setUnits(imported_per_month)\n",
    "d.setUnits(imported_per_1000fish_month)\n",
    "parameters_d.setUnits(parameters_imported_per_1000fish_month)\n",
    "\n",
    "fish.setUnits(imported_thousands_of_fish)\n",
    "states_fish.setUnits(states_imported_thousands_of_fish)\n",
    "sharks.setUnits(imported_number_of_sharks)\n",
    "states_sharks.setUnits(states_imported_number_of_sharks)\n"
   ]
  },
  {
   "cell_type": "markdown",
   "id": "0aa23739-a7d5-4954-9648-7d714ba26809",
   "metadata": {},
   "source": [
    "The last thing we need to do is import the components holding the initialised variables, and make the appropriate equivalences between the variables.\n",
    "First we will import the components we need into the computational model."
   ]
  },
  {
   "cell_type": "code",
   "execution_count": null,
   "id": "d0bbba92-25ba-4a37-a211-6bd0f7cff8bf",
   "metadata": {},
   "outputs": [],
   "source": [
    "states_import_source = libcellml.ImportSource()\n",
    "states_import_source.setUrl('shark_v_fish_states.cellml')\n",
    "states_import_source.setModel(states_model)\n",
    "parameters_import_source = libcellml.ImportSource()\n",
    "parameters_import_source.setUrl('shark_v_fish_parameters.cellml')\n",
    "parameters_import_source.setModel(parameters_model)\n",
    "\n",
    "imported_parameters = libcellml.Component(\"parameters\")\n",
    "imported_parameters.setImportSource(parameters_import_source)\n",
    "imported_parameters.setImportReference(\"parameters\")\n",
    "\n",
    "imported_states = libcellml.Component(\"states\")\n",
    "imported_states.setImportSource(states_import_source)\n",
    "imported_states.setImportReference(\"states\")\n",
    "\n",
    "computational_model.addComponent(imported_parameters)\n",
    "computational_model.addComponent(imported_states)\n",
    "\n"
   ]
  },
  {
   "cell_type": "markdown",
   "id": "e978308a-465b-42a6-bcde-b033874dffc9",
   "metadata": {},
   "source": [
    "Now we can make the equivalences between the models."
   ]
  },
  {
   "cell_type": "code",
   "execution_count": null,
   "id": "c200eb5a-1e8d-45df-936a-19f9a7b04ba8",
   "metadata": {},
   "outputs": [],
   "source": [
    "\n",
    "ghost_fish = libcellml.Variable(\"y_f\")\n",
    "imported_states.addVariable(ghost_fish)\n",
    "libcellml.Variable.addEquivalence(ghost_fish, fish)\n",
    "\n",
    "ghost_sharks = libcellml.Variable(\"y_s\")\n",
    "imported_states.addVariable(ghost_sharks)\n",
    "libcellml.Variable.addEquivalence(ghost_sharks, sharks)\n",
    "\n",
    "ghost_a = libcellml.Variable(\"a\")\n",
    "imported_parameters.addVariable(ghost_a)\n",
    "libcellml.Variable.addEquivalence(ghost_a, a)\n",
    "\n",
    "ghost_b = libcellml.Variable(\"b\")\n",
    "imported_parameters.addVariable(ghost_b)\n",
    "libcellml.Variable.addEquivalence(ghost_b, b)\n",
    "\n",
    "ghost_d = libcellml.Variable(\"d\")\n",
    "imported_parameters.addVariable(ghost_d)\n",
    "libcellml.Variable.addEquivalence(ghost_d, d)"
   ]
  },
  {
   "cell_type": "markdown",
   "id": "764a2f1a-db21-4552-b144-8d4567daead8",
   "metadata": {},
   "source": [
    "Set the appropriate interface type for the variables we need to make equivalent."
   ]
  },
  {
   "cell_type": "code",
   "execution_count": null,
   "id": "929490a9-647b-4c9c-8807-96a05d9039db",
   "metadata": {},
   "outputs": [],
   "source": [
    "a.setInterfaceType(\"public\")\n",
    "b.setInterfaceType(\"public\")\n",
    "d.setInterfaceType(\"public\")\n",
    "sharks.setInterfaceType(\"public\")\n",
    "fish.setInterfaceType(\"public\")"
   ]
  },
  {
   "cell_type": "markdown",
   "id": "4c9ecad1-b258-46f4-8439-c02a8b50184c",
   "metadata": {},
   "source": [
    "Check that all imports have been resolved, if they haven't we will not get any further."
   ]
  },
  {
   "cell_type": "code",
   "execution_count": null,
   "id": "721ad0ed-a1fd-496e-a3bc-8f99ae1b1ac9",
   "metadata": {},
   "outputs": [],
   "source": [
    "if computational_model.hasUnresolvedImports():\n",
    "    print(\"Some imports have not been properly defined.\")\n",
    "else:\n",
    "    print(\"Imports are properly specified.\")"
   ]
  },
  {
   "cell_type": "markdown",
   "id": "a0f6b130-a4e1-40a1-bb82-1e58c08cfaa3",
   "metadata": {},
   "source": [
    "With all the imports resolved we can flatten the model.\n",
    "We have to flatten the model because the analyser cannot analyse a model with imports."
   ]
  },
  {
   "cell_type": "code",
   "execution_count": null,
   "id": "e2f7ed78-f9a9-47c8-87da-c62b05f00deb",
   "metadata": {},
   "outputs": [],
   "source": [
    "importer = libcellml.Importer()\n",
    "flattened_model = importer.flattenModel(computational_model)"
   ]
  },
  {
   "cell_type": "markdown",
   "id": "b6ccaf2e-276a-4279-af81-733d25064832",
   "metadata": {},
   "source": [
    "Now we can follow through with solving of the model as we did in [Tutorial 02 - Sharks and Fish](./tut_02_sharks_and_fish.ipynb)."
   ]
  },
  {
   "cell_type": "code",
   "execution_count": null,
   "id": "488c2758-e769-4160-89bb-22e8f1d7a221",
   "metadata": {},
   "outputs": [],
   "source": [
    "analyser = libcellml.Analyser()\n",
    "analyser.analyseModel(flattened_model)\n",
    "for i in range(analyser.errorCount()):\n",
    "    print(analyser.error(i).description())\n",
    "\n",
    "analyser_model = analyser.model()\n",
    "profile = libcellml.GeneratorProfile(libcellml.GeneratorProfile.Profile.PYTHON)\n",
    "generator = libcellml.Generator()\n",
    "generator.setProfile(profile)\n",
    "generator.setModel(analyser_model)\n",
    "code = generator.implementationCode()\n",
    "# Use a utility funciton to create a module from the generated code so that we can interact with the model.\n",
    "from utils.import_ext import import_module_from_string\n",
    "predator_prey = import_module_from_string(\"predator_prey\", code)\n",
    "time = 0.0\n",
    "step_size = 0.01\n",
    "step_count = 2400\n",
    "incr = int(step_count/60) + 1\n",
    "model_variables = predator_prey.create_variables_array()\n",
    "model_states = predator_prey.create_states_array()\n",
    "model_rates = predator_prey.create_states_array()\n",
    "predator_prey.initialise_variables(model_states, model_rates, model_variables)\n",
    "predator_prey.compute_computed_constants(model_variables)\n",
    "results = {\n",
    "    \"time\": [None] * step_count,\n",
    "}\n",
    "for s in predator_prey.STATE_INFO:\n",
    "    results[s[\"name\"]] = [None] * step_count\n",
    "\n",
    "for step in range(step_count):\n",
    "    time = step * step_size\n",
    "    predator_prey.compute_rates(time, model_states, model_rates, model_variables)\n",
    "    \n",
    "    # Update results.\n",
    "    results[\"time\"][step] = time\n",
    "    for i, s in enumerate(predator_prey.STATE_INFO):\n",
    "        results[s[\"name\"]][step] = model_states[i]\n",
    "\n",
    "    # Update states.\n",
    "    model_states = [s + model_rates[i] * step_size for i, s in enumerate(model_states)]"
   ]
  },
  {
   "cell_type": "markdown",
   "id": "9ac5362e-bc3a-49ce-9af7-d3ccbb69779b",
   "metadata": {},
   "source": [
    "We plot the results which should be exactly as before."
   ]
  },
  {
   "cell_type": "code",
   "execution_count": null,
   "id": "5a81d1f8-dc73-4790-9b07-952730ebbcc9",
   "metadata": {},
   "outputs": [],
   "source": [
    "import matplotlib.pyplot as plt\n",
    "\n",
    "for s in predator_prey.STATE_INFO:\n",
    "    plt.plot(results[\"time\"], results[s[\"name\"]], label = s[\"name\"])\n",
    "plt.legend()\n",
    "plt.title(\"Population dynamics of shark and fish\")\n",
    "plt.ylabel(\"Population\")\n",
    "plt.xlabel(\"Time (months)\")\n",
    "plt.show()"
   ]
  }
 ],
 "metadata": {
  "kernelspec": {
   "display_name": "Python 3 (ipykernel)",
   "language": "python",
   "name": "python3"
  },
  "language_info": {
   "codemirror_mode": {
    "name": "ipython",
    "version": 3
   },
   "file_extension": ".py",
   "mimetype": "text/x-python",
   "name": "python",
   "nbconvert_exporter": "python",
   "pygments_lexer": "ipython3",
   "version": "3.13.0"
  }
 },
 "nbformat": 4,
 "nbformat_minor": 5
}
