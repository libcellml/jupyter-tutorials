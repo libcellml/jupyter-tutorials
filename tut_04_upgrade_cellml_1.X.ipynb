{
 "cells": [
  {
   "cell_type": "markdown",
   "id": "2afa0d68-1c72-4040-ae59-b631d6f74388",
   "metadata": {},
   "source": [
    "# Upgrade a CellML 1.0 or CellML 1.1 model"
   ]
  },
  {
   "cell_type": "markdown",
   "id": "aa45ba4e-0514-4a2e-b123-47792a09db8f",
   "metadata": {},
   "source": [
    "With a new standard we often want to upgrade the models saved in the old standard to the new.\n",
    "LibCellML ofers a facility to upgrade a CellML 1.0 or CellML 1.1 to CellML 2.0.\n",
    "Unfortunately some models written in CellML 1.0 or CellML 1.1 that were usable with the CellML-API will not be upgradeable to CellML 2.0 and usable with libCellML without intervention.\n",
    "But, for those models that require intervention libCellML will give direction on what is wrong and how to fix any errors encountered."
   ]
  },
  {
   "cell_type": "markdown",
   "id": "6ba9e1dd-67e9-4d46-9705-79877cdd9383",
   "metadata": {},
   "source": [
    "In this tutorial we will work through the process of upgrading the Hodgkin Huxley 1952 squid axon model."
   ]
  },
  {
   "cell_type": "markdown",
   "id": "18fea3f6-0d24-42bf-85c0-494095c3b3ad",
   "metadata": {},
   "source": [
    "The models for this tutorial are taken from [here](https://models.physiomeproject.org/e/e5/tutorial/tutorial.html/view)."
   ]
  },
  {
   "cell_type": "markdown",
   "id": "fb48ecbc-34e1-4a91-816c-c9c67ff77bd0",
   "metadata": {},
   "source": [
    "Again we start by loading the libCellML package."
   ]
  },
  {
   "cell_type": "code",
   "execution_count": null,
   "id": "46aa0c46-44c7-43f5-b4d5-20f73eb140f1",
   "metadata": {},
   "outputs": [],
   "source": [
    "import libcellml"
   ]
  },
  {
   "cell_type": "markdown",
   "id": "852aa612-9af4-4726-aefe-e0d0633e085d",
   "metadata": {},
   "source": [
    "To upgrade our model we use the *Parser* and *Importer* classes.\n",
    "By default these classes are set to do their work in **strict** mode, this means they will only deal with CellML 2.0 \"documents\".\n",
    "Because we are working with an older version of the CellML standard we need to make these classes more permissive, we do this simply by setting **strict** false."
   ]
  },
  {
   "cell_type": "code",
   "execution_count": null,
   "id": "960067c4-99bf-4426-abc6-4f60c183d903",
   "metadata": {},
   "outputs": [],
   "source": [
    "parser = libcellml.Parser()\n",
    "parser.setStrict(False)"
   ]
  },
  {
   "cell_type": "code",
   "execution_count": null,
   "id": "bdbe37e6-e754-4227-9df0-ea9ff820a901",
   "metadata": {},
   "outputs": [],
   "source": [
    "importer = libcellml.Importer()\n",
    "importer.setStrict(False)"
   ]
  },
  {
   "cell_type": "markdown",
   "id": "4369d013-4414-4b13-a2fd-2350f44c9407",
   "metadata": {},
   "source": [
    "Now we can load our initial model with the parser and use the importer to convert the models, the initial model imports."
   ]
  },
  {
   "cell_type": "markdown",
   "id": "a855cd2e-af40-4bca-b50a-6d46e2ce96f6",
   "metadata": {},
   "source": [
    "To use the importer we need to do a little bit of work with the filesystem.\n",
    "We import the os module."
   ]
  },
  {
   "cell_type": "code",
   "execution_count": null,
   "id": "66460ec6-c922-4222-9a04-2ef1c6474ae8",
   "metadata": {},
   "outputs": [],
   "source": [
    "import os"
   ]
  },
  {
   "cell_type": "markdown",
   "id": "5155ca78-187a-4bad-bd1a-b27469d735b0",
   "metadata": {},
   "source": [
    "Get some helpful paths ready for the importer."
   ]
  },
  {
   "cell_type": "code",
   "execution_count": null,
   "id": "2bbfd6d4-c023-41ab-91dd-423255e137c8",
   "metadata": {},
   "outputs": [],
   "source": [
    "here = os.path.abspath(os.curdir)\n",
    "base_path = os.path.join(here, \"resources\", \"hodgkin_huxley\")"
   ]
  },
  {
   "cell_type": "markdown",
   "id": "b9ea00fd-0409-4311-ac26-373d4c041854",
   "metadata": {},
   "source": [
    "As before we read in the content for the model and parse it to create the main model."
   ]
  },
  {
   "cell_type": "code",
   "execution_count": null,
   "id": "2ebf3731-f01f-4302-ba48-b284ffc88012",
   "metadata": {},
   "outputs": [],
   "source": [
    "with open(os.path.join(\"resources\", \"hodgkin_huxley\", \"stimulated.xml\")) as fh:\n",
    "    content = fh.read()\n",
    "\n",
    "model = parser.parseModel(content)"
   ]
  },
  {
   "cell_type": "markdown",
   "id": "c592238f-d303-4a6a-a1a3-250ef487af68",
   "metadata": {},
   "source": [
    "Let's take a quick look at what has already happened (if anything)."
   ]
  },
  {
   "cell_type": "code",
   "execution_count": null,
   "id": "80a3c1f5-dfb6-4b26-ba97-201408ff52a9",
   "metadata": {},
   "outputs": [],
   "source": [
    "printer = libcellml.Printer()\n",
    "print(printer.printModel(model))"
   ]
  },
  {
   "cell_type": "markdown",
   "id": "b4789170-627f-4128-a45d-ea205e5b09bb",
   "metadata": {},
   "source": [
    "Okay, now we will validate the (now) CellML 2.0 model and see if any problems have arisen."
   ]
  },
  {
   "cell_type": "code",
   "execution_count": null,
   "id": "a6b8784e-5b14-4658-bb3c-261f972526d5",
   "metadata": {},
   "outputs": [],
   "source": [
    "validator = libcellml.Validator()\n",
    "validator.validateModel(model)"
   ]
  },
  {
   "cell_type": "markdown",
   "id": "5de7b087-9714-4e57-88d7-ad3b3ead8148",
   "metadata": {},
   "source": [
    "Check the validation and report on either the successful validation or the errors encountered."
   ]
  },
  {
   "cell_type": "code",
   "execution_count": null,
   "id": "8c3b1a2d-35ee-4079-a57a-82660a4dfde2",
   "metadata": {},
   "outputs": [],
   "source": [
    "if validator.errorCount() == 0:\n",
    "    print(f\"{model.name()} is Valid.\")\n",
    "else:\n",
    "    for i in range(validator.errorCount()):\n",
    "        print(validator.error(i).description())"
   ]
  },
  {
   "cell_type": "markdown",
   "id": "cc5b9d00-2adf-4c91-9e76-fff091dbf642",
   "metadata": {},
   "source": [
    "Now we make use of the importer.\n",
    "The importer is a strange beast, it will try and read models using a relative path from the local disk to ascertain if the model is fully defined or not.\n",
    "The *resolveImports* method will return whether all the imported objects were found, we can use this to report if we were able to find all objects required by the main model."
   ]
  },
  {
   "cell_type": "code",
   "execution_count": null,
   "id": "ef85ad16-ca1e-4f0b-98fa-97a295bcc11f",
   "metadata": {},
   "outputs": [],
   "source": [
    "if importer.resolveImports(model, base_path):\n",
    "    print(\"We resolved all the imports in this model.\")\n",
    "else:\n",
    "    print(\"Some imports in the model were not resolved.\")"
   ]
  },
  {
   "cell_type": "markdown",
   "id": "7cb7fb57-1be0-433d-9a0a-9ea3b5b8c2a2",
   "metadata": {},
   "source": [
    "The by-product of this is that any CellML 1.0 or CellML 1.1 models encountered will be automatically upgraded to CellML 2.0.\n",
    "We will then be able to go through all the models in the importer and determine their validity.\n",
    "As we go through the importer library of models we print a simple report on the result of the validation."
   ]
  },
  {
   "cell_type": "code",
   "execution_count": null,
   "id": "dc286eb8-6970-4320-a277-64e6309b962e",
   "metadata": {},
   "outputs": [],
   "source": [
    "for i in range(importer.libraryCount()):\n",
    "    k = importer.key(i)\n",
    "    m = importer.library(i)\n",
    "    validator.validateModel(m)\n",
    "    if validator.errorCount() == 0:\n",
    "        print(f\"{m.name()} is Valid.\")\n",
    "    else:\n",
    "        for i in range(validator.errorCount()):\n",
    "            print(validator.error(i).description())"
   ]
  }
 ],
 "metadata": {
  "kernelspec": {
   "display_name": "Python 3 (ipykernel)",
   "language": "python",
   "name": "python3"
  },
  "language_info": {
   "codemirror_mode": {
    "name": "ipython",
    "version": 3
   },
   "file_extension": ".py",
   "mimetype": "text/x-python",
   "name": "python",
   "nbconvert_exporter": "python",
   "pygments_lexer": "ipython3",
   "version": "3.13.0"
  }
 },
 "nbformat": 4,
 "nbformat_minor": 5
}
