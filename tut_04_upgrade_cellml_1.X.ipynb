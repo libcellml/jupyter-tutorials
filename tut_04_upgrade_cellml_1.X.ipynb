{
 "cells": [
  {
   "cell_type": "markdown",
   "id": "2afa0d68-1c72-4040-ae59-b631d6f74388",
   "metadata": {},
   "source": [
    "# Upgrade a CellML 1.0 or CellML 1.1 model"
   ]
  },
  {
   "cell_type": "markdown",
   "id": "aa45ba4e-0514-4a2e-b123-47792a09db8f",
   "metadata": {},
   "source": [
    "With a new standard we often want to upgrade the models saved in the old standard to the new.\n",
    "LibCellML ofers a facility to upgrade a CellML 1.0 or CellML 1.1 to CellML 2.0.\n",
    "Unfortunately some models written in CellML 1.0 or CellML 1.1 that were usable with the CellML-API will not be upgradeable to CellML 2.0 and usable with libCellML without intervention.\n",
    "But, for those models that require intervention libCellML will give direction on what is wrong and how to fix any errors encountered."
   ]
  },
  {
   "cell_type": "markdown",
   "id": "6ba9e1dd-67e9-4d46-9705-79877cdd9383",
   "metadata": {},
   "source": [
    "In this tutorial we will work through the process of upgrading the Hodgkin Huxley 1952 squid axon model."
   ]
  },
  {
   "cell_type": "markdown",
   "id": "18fea3f6-0d24-42bf-85c0-494095c3b3ad",
   "metadata": {},
   "source": [
    "The models for this tutorial are taken from [here](https://models.physiomeproject.org/e/e5/tutorial/tutorial.html/view)."
   ]
  },
  {
   "cell_type": "markdown",
   "id": "fb48ecbc-34e1-4a91-816c-c9c67ff77bd0",
   "metadata": {},
   "source": [
    "Again we start by loading the libCellML package."
   ]
  },
  {
   "cell_type": "code",
   "execution_count": null,
   "id": "46aa0c46-44c7-43f5-b4d5-20f73eb140f1",
   "metadata": {},
   "outputs": [],
   "source": [
    "import libcellml"
   ]
  },
  {
   "cell_type": "markdown",
   "id": "852aa612-9af4-4726-aefe-e0d0633e085d",
   "metadata": {},
   "source": [
    "To upgrade our model we use the *Parser* and *Importer* classes.\n",
    "By default these classes are set to do their work in **strict** mode, this means they will only deal with CellML 2.0 \"documents\".\n",
    "Because we are working with an older version of the CellML standard we need to make these classes more permissive, we do this simply by setting **strict** false."
   ]
  },
  {
   "cell_type": "code",
   "execution_count": null,
   "id": "960067c4-99bf-4426-abc6-4f60c183d903",
   "metadata": {},
   "outputs": [],
   "source": [
    "parser = libcellml.Parser()\n",
    "parser.setStrict(False)"
   ]
  },
  {
   "cell_type": "code",
   "execution_count": null,
   "id": "bdbe37e6-e754-4227-9df0-ea9ff820a901",
   "metadata": {},
   "outputs": [],
   "source": [
    "importer = libcellml.Importer()\n",
    "importer.setStrict(False)"
   ]
  },
  {
   "cell_type": "markdown",
   "id": "4369d013-4414-4b13-a2fd-2350f44c9407",
   "metadata": {},
   "source": [
    "Now we can load our initial model with the parser and use the importer to convert the models the initial model imports."
   ]
  },
  {
   "cell_type": "code",
   "execution_count": null,
   "id": "66460ec6-c922-4222-9a04-2ef1c6474ae8",
   "metadata": {},
   "outputs": [],
   "source": [
    "import os"
   ]
  },
  {
   "cell_type": "code",
   "execution_count": null,
   "id": "2bbfd6d4-c023-41ab-91dd-423255e137c8",
   "metadata": {},
   "outputs": [],
   "source": [
    "here = os.path.abspath(os.curdir)\n",
    "base_path = os.path.join(here, \"resources\", \"hodgkin_huxley\")"
   ]
  },
  {
   "cell_type": "code",
   "execution_count": null,
   "id": "2ebf3731-f01f-4302-ba48-b284ffc88012",
   "metadata": {},
   "outputs": [],
   "source": [
    "with open(os.path.join(\"resources\", \"hodgkin_huxley\", \"stimulated.xml\")) as fh:\n",
    "    content = fh.read()\n",
    "\n",
    "model = parser.parseModel(content)"
   ]
  },
  {
   "cell_type": "code",
   "execution_count": null,
   "id": "80a3c1f5-dfb6-4b26-ba97-201408ff52a9",
   "metadata": {},
   "outputs": [],
   "source": [
    "printer = libcellml.Printer()\n",
    "print(printer.printModel(model))"
   ]
  },
  {
   "cell_type": "code",
   "execution_count": null,
   "id": "a6b8784e-5b14-4658-bb3c-261f972526d5",
   "metadata": {},
   "outputs": [],
   "source": [
    "validator = libcellml.Validator()\n",
    "validator.validateModel(model)"
   ]
  },
  {
   "cell_type": "code",
   "execution_count": null,
   "id": "8c3b1a2d-35ee-4079-a57a-82660a4dfde2",
   "metadata": {},
   "outputs": [],
   "source": [
    "if validator.errorCount() == 0:\n",
    "    print(f\"{model.name()} is Valid.\")\n",
    "else:\n",
    "    for i in range(validator.errorCount()):\n",
    "        print(validator.error(i).description())"
   ]
  },
  {
   "cell_type": "code",
   "execution_count": null,
   "id": "ef85ad16-ca1e-4f0b-98fa-97a295bcc11f",
   "metadata": {},
   "outputs": [],
   "source": [
    "if importer.resolveImports(model, base_path):\n",
    "    print(\"We resolved all the imports in this model.\")\n",
    "else:\n",
    "    print(\"Some imports in the model were not resolved.\")"
   ]
  },
  {
   "cell_type": "code",
   "execution_count": null,
   "id": "dc286eb8-6970-4320-a277-64e6309b962e",
   "metadata": {},
   "outputs": [],
   "source": [
    "for i in range(importer.libraryCount()):\n",
    "    k = importer.key(i)\n",
    "    m = importer.library(i)\n",
    "    validator.validateModel(m)\n",
    "    if validator.errorCount() == 0:\n",
    "        print(f\"{m.name()} is Valid.\")\n",
    "    else:\n",
    "        for i in range(validator.errorCount()):\n",
    "            print(validator.error(i).description())"
   ]
  }
 ],
 "metadata": {
  "kernelspec": {
   "display_name": "Python 3 (ipykernel)",
   "language": "python",
   "name": "python3"
  },
  "language_info": {
   "codemirror_mode": {
    "name": "ipython",
    "version": 3
   },
   "file_extension": ".py",
   "mimetype": "text/x-python",
   "name": "python",
   "nbconvert_exporter": "python",
   "pygments_lexer": "ipython3",
   "version": "3.13.0"
  }
 },
 "nbformat": 4,
 "nbformat_minor": 5
}
