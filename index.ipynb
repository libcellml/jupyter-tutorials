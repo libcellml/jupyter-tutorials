{
 "cells": [
  {
   "cell_type": "markdown",
   "id": "3ee1a848-8766-459d-8971-e7861bcc0bf0",
   "metadata": {},
   "source": [
    "# Table of Contents"
   ]
  },
  {
   "cell_type": "markdown",
   "id": "123997e2-e079-4aec-85f0-4e523b7c6ccf",
   "metadata": {},
   "source": [
    "* [Tutorial 01 - Introduction](./tut_01_intro.ipynb)\n",
    "* [Tutorial 02 - Sharks and Fish](./tut_02_sharks_and_fish.ipynb)\n",
    "* [Tutorial 03 - Modularity and Reuse](./tut_03_modularity_and_reuse.ipynb)\n",
    "* [Tutorial 04 - Upgrade CellML 1.X](./tut_04_upgrade_cellml_1.X.ipynb)"
   ]
  }
 ],
 "metadata": {
  "kernelspec": {
   "display_name": "Python 3 (ipykernel)",
   "language": "python",
   "name": "python3"
  },
  "language_info": {
   "codemirror_mode": {
    "name": "ipython",
    "version": 3
   },
   "file_extension": ".py",
   "mimetype": "text/x-python",
   "name": "python",
   "nbconvert_exporter": "python",
   "pygments_lexer": "ipython3",
   "version": "3.12.0"
  }
 },
 "nbformat": 4,
 "nbformat_minor": 5
}
