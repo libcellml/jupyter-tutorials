{
 "cells": [
  {
   "cell_type": "code",
   "execution_count": 1,
   "id": "2cae1d04-5d3c-43e6-b9f1-416251a7b2b3",
   "metadata": {},
   "outputs": [],
   "source": [
    "# Sharks and Fish"
   ]
  },
  {
   "cell_type": "markdown",
   "id": "2fc67a8a-6696-47b8-8954-b7004a9e12ff",
   "metadata": {},
   "source": [
    "In this tutorial we will look at building a model from scratch using pre-defined MathML equations, generating code from the model, and solving the model."
   ]
  },
  {
   "cell_type": "markdown",
   "id": "1f46df4d-77ed-4092-8287-d686b61a68b6",
   "metadata": {},
   "source": [
    "We are going to create a simple model representing the population dynamics of two species - one a predator (sharks), and the other their prey (fish).\n",
    "The population of fish can only grow when there are not too many sharks eating them, the rate at which the fish population grows depends on how many fish are available for breeding.\n",
    "At the same time, the population of sharks will depend on how much food is available in the fish population.\n",
    "In maths this relationship can be written:\n",
    "\n",
    "$$\n",
    "c = a + 2.0\n",
    "$$\n",
    "$$\n",
    "\\frac{dy_s}{dt} =f(sharks, fishes, time) = a y_s + b y_s y_f\n",
    "$$\n",
    "$$\n",
    "\\frac{dy_f}{dt} =f(sharks, fishes, time) = c y_f + d y_s y_f\n",
    "$$\n",
    "\n",
    "where the constants are defined as $(a, b, d)=(-0.8, 0.3, -0.6)$ and we'll use the initial conditions of $y_s(t=0)=1.0$ and\n",
    "$y_f(t=0)=2.0$. $c$ is what we call, in a libCellML context, a computed constant.\n",
    "\n",
    "In order to model these unusual populations you'll need to create your own custom units, enter these governing equations in MathML syntax, and to use the **Generator** functionality to create files that are able to be solved using a numerical integrator in C++ or Python."
   ]
  },
  {
   "cell_type": "markdown",
   "id": "24c125f7-4ba4-4931-8737-fc3d7f41f671",
   "metadata": {},
   "source": [
    "To start we import libCellML."
   ]
  },
  {
   "cell_type": "code",
   "execution_count": 2,
   "id": "349b6f4a-0e13-4159-a9ff-1c108d59e82e",
   "metadata": {},
   "outputs": [],
   "source": [
    "import libcellml"
   ]
  },
  {
   "cell_type": "markdown",
   "id": "907351a1-f2bf-4747-8763-308ef9a2fe55",
   "metadata": {},
   "source": [
    "Then we create a model with a name, and a single component also with a name which we add to the model."
   ]
  },
  {
   "cell_type": "code",
   "execution_count": 3,
   "id": "83e64d49-c59c-4a3c-a738-46cace501a25",
   "metadata": {},
   "outputs": [
    {
     "data": {
      "text/plain": [
       "True"
      ]
     },
     "execution_count": 3,
     "metadata": {},
     "output_type": "execute_result"
    }
   ],
   "source": [
    "model = libcellml.Model(\"sharks_v_fish\")\n",
    "sea_component = libcellml.Component(\"sea\")\n",
    "model.addComponent(sea_component)"
   ]
  },
  {
   "cell_type": "markdown",
   "id": "1526c261-1beb-45c8-989b-6a226a471f9f",
   "metadata": {},
   "source": [
    "A point of note is that CellML encapsulates math in MathML 2.0 only.\n",
    "For various reasons even though MathML 3.0 and MathML 4.0 exist, CellML only accepts MathML 2.0 math.\n",
    "Further to this point, CellML 2.0 only allows a reduced set of the MathML 2.0 standard.\n",
    "But don't worry, the allowed MathML elements is sufficient to describe your favourite ODE or DAE model."
   ]
  },
  {
   "cell_type": "markdown",
   "id": "5cb4be3e-3efa-4fa8-b1cf-fcd6ea72f992",
   "metadata": {},
   "source": [
    "Looking at the top equation first, the MathML2 representation of $c = a + 2.0$ is:"
   ]
  },
  {
   "cell_type": "markdown",
   "id": "c39adc1a-b654-4fba-b880-0870cca8277e",
   "metadata": {},
   "source": [
    "```xml\n",
    "<apply>\n",
    "  <eq/>\n",
    "  <ci>c</ci>\n",
    "  <apply>\n",
    "    <plus/>\n",
    "    <ci>a</ci>\n",
    "    <cn cellml:units=\"per_month\">2.0</cn>\n",
    "  </apply>\n",
    "</apply>\n",
    "```"
   ]
  },
  {
   "cell_type": "markdown",
   "id": "11846a9a-00b9-4cbe-a5e6-71495e519794",
   "metadata": {},
   "source": [
    "We won't go in to the MathML too deeply (or at all) but hopefully you can see just how this equation has been encoded in MathML\n",
    "We can see here that the *apply* element is a building block in MathML.\n",
    "This element applies an operator to any number of operands.\n",
    "The operators themselves are generally self-evident as to their purpose."
   ]
  },
  {
   "cell_type": "markdown",
   "id": "88503175-0d41-473c-89a7-0d0e70aecfa2",
   "metadata": {},
   "source": [
    "The eagle eyed amoung you will of course notice the *cellml:units=\"per_month\"* attribute on the constant element.\n",
    "We must define the units for this constant so that our equations maintain their units consistency.\n",
    "We will bring the units full circle soon."
   ]
  },
  {
   "cell_type": "markdown",
   "id": "abba13f2-0ddc-43f5-8bd6-527683ace406",
   "metadata": {},
   "source": [
    "Here is the second equation:"
   ]
  },
  {
   "cell_type": "markdown",
   "id": "12cdc759-c43d-4c24-adec-1167e630a93d",
   "metadata": {},
   "source": [
    "```xml\n",
    "<apply>\n",
    "  <eq/>\n",
    "  <apply>\n",
    "    <diff/>\n",
    "    <bvar>\n",
    "      <ci>time</ci>\n",
    "    </bvar>\n",
    "    <ci>y_s</ci>\n",
    "  </apply>\n",
    "  <apply>\n",
    "    <plus/>\n",
    "    <apply>\n",
    "       <times/>\n",
    "       <ci>a</ci>\n",
    "       <ci>y_s</ci>\n",
    "    </apply>\n",
    "    <apply>\n",
    "      <times/>\n",
    "      <ci>b</ci>\n",
    "      <ci>y_s</ci>\n",
    "      <ci>y_f</ci>\n",
    "    </apply>\n",
    "  </apply>\n",
    "</apply>\n",
    "```"
   ]
  },
  {
   "cell_type": "markdown",
   "id": "5c40a713-e8fa-46c3-9df9-5507d4c550be",
   "metadata": {},
   "source": [
    "And the third:"
   ]
  },
  {
   "cell_type": "markdown",
   "id": "b904940f-914e-48f4-9671-f4d5cacccd54",
   "metadata": {},
   "source": [
    "```xml\n",
    "<apply>\n",
    "  <eq/>\n",
    "  <apply>\n",
    "    <diff/>\n",
    "    <bvar>\n",
    "      <ci>time</ci>\n",
    "    </bvar>\n",
    "    <ci>y_f</ci>\n",
    "  </apply>\n",
    "  <apply>\n",
    "    <plus/>\n",
    "    <apply>\n",
    "      <times/>\n",
    "      <ci>c</ci>\n",
    "      <ci>y_f</ci>\n",
    "    </apply>\n",
    "    <apply>\n",
    "      <times/>\n",
    "      <ci>d</ci>\n",
    "      <ci>y_s</ci>\n",
    "      <ci>y_f</ci>\n",
    "    </apply>\n",
    "  </apply>\n",
    "</apply>\n",
    "```"
   ]
  },
  {
   "cell_type": "markdown",
   "id": "192ab992-e5b7-43bd-a63a-8a211ae76e7c",
   "metadata": {},
   "source": [
    "The MathML added to a component must be a valid MathML block of text (according to the MathML 2 DTD).\n",
    "The math in a component can be a series of valid MathML blocks of text or just a single MathML document.\n",
    "To this end we use the MathML header as:\n",
    "```xml\n",
    "<math xmlns=\"http://www.w3.org/1998/Math/MathML\" xmlns:cellml=\"http://www.cellml.org/cellml/2.0#\">\n",
    "```\n",
    "You will of course notice the addition of the CellML namespace definition, we need to define this namespace so that we can set the appropriate units for any constants that appear in the math.\n",
    "We close the MathML document with:\n",
    "```xml\n",
    "</math>\n",
    "```"
   ]
  },
  {
   "cell_type": "markdown",
   "id": "82436e8b-b071-4372-9904-6e0670305f5a",
   "metadata": {},
   "source": [
    "To add the math to our component we shall load the MathML document from the *resources* directory."
   ]
  },
  {
   "cell_type": "code",
   "execution_count": 4,
   "id": "8b42a53c-b939-4781-b21d-08f45dda23ed",
   "metadata": {},
   "outputs": [],
   "source": [
    "with open(\"resources/sharks_and_fish.mathml\") as fh:\n",
    "    mathml = fh.read()\n",
    "\n",
    "sea_component.setMath(mathml)"
   ]
  },
  {
   "cell_type": "markdown",
   "id": "0076f6cd-6303-46a0-a0ef-63c29da47bb3",
   "metadata": {},
   "source": [
    "A big part of CellML is using variables to define an interface to the model, we need to define these variables in the component with the appropriate units.\n",
    "The variables that are used in the math all need to be represented by variables in the component.\n",
    "This means we need to define CellML variables for the following variables in the math:\n",
    "* time\n",
    "* y_s\n",
    "* y_f\n",
    "* a\n",
    "* b\n",
    "* c\n",
    "* d"
   ]
  },
  {
   "cell_type": "code",
   "execution_count": 5,
   "id": "a856322d-7d99-4961-ae28-e17babaccc18",
   "metadata": {},
   "outputs": [
    {
     "data": {
      "text/plain": [
       "True"
      ]
     },
     "execution_count": 5,
     "metadata": {},
     "output_type": "execute_result"
    }
   ],
   "source": [
    "# Define and add variables to the component.\n",
    "time = libcellml.Variable(\"time\")\n",
    "sea_component.addVariable(time)\n",
    "sharks = libcellml.Variable(\"y_s\")\n",
    "sea_component.addVariable(sharks)\n",
    "fish = libcellml.Variable(\"y_f\")\n",
    "sea_component.addVariable(fish)\n",
    "a = libcellml.Variable(\"a\")\n",
    "sea_component.addVariable(a)\n",
    "b = libcellml.Variable(\"b\")\n",
    "sea_component.addVariable(b)\n",
    "c = libcellml.Variable(\"c\")\n",
    "sea_component.addVariable(c)\n",
    "d = libcellml.Variable(\"d\")\n",
    "sea_component.addVariable(d)"
   ]
  },
  {
   "cell_type": "markdown",
   "id": "c8125b4c-a8ff-40ec-940c-107a7c061dcd",
   "metadata": {},
   "source": [
    "Now we need to define the units for our variables in the model. \n",
    "Having units consistency in a model is a very important for spotting inconsistencies in the model, libCellML has powerful units checking capabilities to help spot these issues.\n",
    "You can of course define every variable as having the units *dimensionless* to bypass this check but this practice is heavily discouraged."
   ]
  },
  {
   "cell_type": "markdown",
   "id": "879fce33-1566-4feb-9e3f-b0e7fda580d0",
   "metadata": {},
   "source": [
    "LibCellML defines a number of units already, the S.I. units plus a collection of other common units, see the documentation [here](https://libcellml.org/documentation/v0.6.3/api/classlibcellml_1_1Units#classlibcellml_1_1Units_1a0d2387a42a6df513cfa55d6ee8e6bf09) for a full list of the pre-defined units.\n",
    "For this model we need to define the following additional units:\n",
    "* month\n",
    "* per_month\n",
    "* number_of_sharks\n",
    "* thousands_of_fish\n",
    "* per_shark_month\n",
    "* per_1000fish_month"
   ]
  },
  {
   "cell_type": "code",
   "execution_count": 6,
   "id": "c1c2c12f-c3cc-41d9-8554-172204296cec",
   "metadata": {},
   "outputs": [],
   "source": [
    "# Define the required units, add them to the model, and set them to the appropriate variable.\n",
    "month = libcellml.Units(\"month\")\n",
    "month.addUnit(\"second\", 0, 1, 2592000)\n",
    "model.addUnits(month)\n",
    "time.setUnits(month)\n",
    "\n",
    "per_month = libcellml.Units(\"per_month\")\n",
    "per_month.addUnit(\"month\", -1)\n",
    "model.addUnits(per_month)\n",
    "a.setUnits(per_month)\n",
    "c.setUnits(per_month)\n",
    "\n",
    "number_of_sharks = libcellml.Units(\"number_of_sharks\")\n",
    "model.addUnits(number_of_sharks)\n",
    "sharks.setUnits(number_of_sharks)\n",
    "\n",
    "thousands_of_fish = libcellml.Units(\"thousands_of_fish\")\n",
    "model.addUnits(thousands_of_fish)\n",
    "fish.setUnits(thousands_of_fish)\n",
    "\n",
    "per_shark_month = libcellml.Units(\"per_shark_month\")\n",
    "per_shark_month.addUnit(\"per_month\")\n",
    "per_shark_month.addUnit(\"number_of_sharks\", -1)\n",
    "model.addUnits(per_shark_month)\n",
    "b.setUnits(per_shark_month)\n",
    "\n",
    "\n",
    "per_1000fish_month = libcellml.Units(\"per_1000fish_month\")\n",
    "per_1000fish_month.addUnit(\"per_month\")\n",
    "per_1000fish_month.addUnit(\"thousands_of_fish\", -1)\n",
    "model.addUnits(per_1000fish_month)\n",
    "d.setUnits(per_1000fish_month)"
   ]
  },
  {
   "cell_type": "markdown",
   "id": "efa646e7-bffd-406a-8c39-f8aaef18552c",
   "metadata": {},
   "source": [
    "Now we need to check that our model is valid before we try and generate any code.\n",
    "The first thing the generator does is check the validity of the model, so if it isn't valid we aren't going to get any further."
   ]
  },
  {
   "cell_type": "code",
   "execution_count": 7,
   "id": "9c154624-5ff2-4829-8368-de13d2b0afdc",
   "metadata": {},
   "outputs": [
    {
     "name": "stdout",
     "output_type": "stream",
     "text": [
      "Our model is valid.\n"
     ]
    }
   ],
   "source": [
    "validator = libcellml.Validator()\n",
    "validator.validateModel(model)\n",
    "if validator.errorCount() == 0:\n",
    "    print(\"Our model is valid.\")\n",
    "else:\n",
    "    print(\"Houston we have a problem!\")\n"
   ]
  },
  {
   "cell_type": "markdown",
   "id": "8723fc81-f126-4e3b-99d5-9b3fcf39379c",
   "metadata": {},
   "source": [
    "Whilst the model is valid it will not be able to be used for generating code as we have not set the initial conditions for the model leaving it under-defined.\n",
    "To define the initial conditions we set the initial values for the variables that require it.\n",
    "The constant variables $a$, $b$, and $d$ can be set to $−0.8$, $0.3$, and $−0.6$ respectively.\n",
    "The variables $y_s$ and $y_f$ can be initialised to $1.0$ and $2.0$."
   ]
  },
  {
   "cell_type": "code",
   "execution_count": 8,
   "id": "9b08a73a-f3b5-4c08-a767-cb0e234af27d",
   "metadata": {},
   "outputs": [],
   "source": [
    "# Set initial values for all required variables.\n",
    "a.setInitialValue(-0.8)\n",
    "b.setInitialValue(0.3)\n",
    "d.setInitialValue(-0.6)\n",
    "sharks.setInitialValue(1.0)\n",
    "fish.setInitialValue(2.0)"
   ]
  },
  {
   "cell_type": "markdown",
   "id": "49a35d3e-dfd1-4bb9-b455-222ed065cd07",
   "metadata": {},
   "source": [
    "Now our model is ready for analysing, and we can use the analysed model to generate the code we can use to simulate the model."
   ]
  },
  {
   "cell_type": "code",
   "execution_count": 9,
   "id": "a04211a6-e6d4-4e88-a240-488990d1b1db",
   "metadata": {},
   "outputs": [],
   "source": [
    "analyser = libcellml.Analyser()\n",
    "analyser.analyseModel(model)"
   ]
  },
  {
   "cell_type": "code",
   "execution_count": 10,
   "id": "e9bf52e0-1605-472e-8e86-4dbe64265c0b",
   "metadata": {},
   "outputs": [],
   "source": [
    "analyser_model = analyser.model()\n",
    "profile = libcellml.GeneratorProfile(libcellml.GeneratorProfile.Profile.PYTHON)\n",
    "generator = libcellml.Generator()\n",
    "generator.setProfile(profile)\n",
    "generator.setModel(analyser_model)"
   ]
  },
  {
   "cell_type": "code",
   "execution_count": 11,
   "id": "091c11d0-b717-41fb-bed0-b11814794c0e",
   "metadata": {},
   "outputs": [
    {
     "name": "stdout",
     "output_type": "stream",
     "text": [
      "# The content of this file was generated using the Python profile of libCellML 0.6.3.\n",
      "\n",
      "from enum import Enum\n",
      "from math import *\n",
      "\n",
      "\n",
      "__version__ = \"0.4.0\"\n",
      "LIBCELLML_VERSION = \"0.6.3\"\n",
      "\n",
      "STATE_COUNT = 2\n",
      "VARIABLE_COUNT = 4\n",
      "\n",
      "\n",
      "class VariableType(Enum):\n",
      "    VARIABLE_OF_INTEGRATION = 0\n",
      "    STATE = 1\n",
      "    CONSTANT = 2\n",
      "    COMPUTED_CONSTANT = 3\n",
      "    ALGEBRAIC = 4\n",
      "\n",
      "\n",
      "VOI_INFO = {\"name\": \"time\", \"units\": \"month\", \"component\": \"sea\", \"type\": VariableType.VARIABLE_OF_INTEGRATION}\n",
      "\n",
      "STATE_INFO = [\n",
      "    {\"name\": \"y_f\", \"units\": \"thousands_of_fish\", \"component\": \"sea\", \"type\": VariableType.STATE},\n",
      "    {\"name\": \"y_s\", \"units\": \"number_of_sharks\", \"component\": \"sea\", \"type\": VariableType.STATE}\n",
      "]\n",
      "\n",
      "VARIABLE_INFO = [\n",
      "    {\"name\": \"a\", \"units\": \"per_month\", \"component\": \"sea\", \"type\": VariableType.CONSTANT},\n",
      "    {\"name\": \"c\", \"units\": \"per_month\", \"component\": \"sea\", \"type\": VariableType.COMPUTED_CONSTANT},\n",
      "    {\"name\": \"b\", \"units\": \"per_shark_month\", \"component\": \"sea\", \"type\": VariableType.CONSTANT},\n",
      "    {\"name\": \"d\", \"units\": \"per_1000fish_month\", \"component\": \"sea\", \"type\": VariableType.CONSTANT}\n",
      "]\n",
      "\n",
      "\n",
      "def create_states_array():\n",
      "    return [nan]*STATE_COUNT\n",
      "\n",
      "\n",
      "def create_variables_array():\n",
      "    return [nan]*VARIABLE_COUNT\n",
      "\n",
      "\n",
      "def initialise_variables(states, rates, variables):\n",
      "    variables[0] = -0.8\n",
      "    variables[2] = 0.3\n",
      "    variables[3] = -0.6\n",
      "    states[0] = 2.0\n",
      "    states[1] = 1.0\n",
      "\n",
      "\n",
      "def compute_computed_constants(variables):\n",
      "    variables[1] = variables[0]+2.0\n",
      "\n",
      "\n",
      "def compute_rates(voi, states, rates, variables):\n",
      "    rates[1] = variables[0]*states[1]+variables[2]*states[1]*states[0]\n",
      "    rates[0] = variables[1]*states[0]+variables[3]*states[1]*states[0]\n",
      "\n",
      "\n",
      "def compute_variables(voi, states, rates, variables):\n",
      "    pass\n",
      "\n"
     ]
    }
   ],
   "source": [
    "code = generator.implementationCode()\n",
    "print(code)"
   ]
  }
 ],
 "metadata": {
  "kernelspec": {
   "display_name": "Python 3 (ipykernel)",
   "language": "python",
   "name": "python3"
  },
  "language_info": {
   "codemirror_mode": {
    "name": "ipython",
    "version": 3
   },
   "file_extension": ".py",
   "mimetype": "text/x-python",
   "name": "python",
   "nbconvert_exporter": "python",
   "pygments_lexer": "ipython3",
   "version": "3.13.0"
  }
 },
 "nbformat": 4,
 "nbformat_minor": 5
}
