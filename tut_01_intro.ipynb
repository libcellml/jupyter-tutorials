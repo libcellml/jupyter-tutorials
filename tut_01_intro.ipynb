{
 "cells": [
  {
   "cell_type": "markdown",
   "id": "22922c4a-4802-48c5-ab1d-2e155f6320be",
   "metadata": {},
   "source": [
    "# Introduction to libCellML"
   ]
  },
  {
   "cell_type": "markdown",
   "id": "a8520a43-49d8-4696-8adb-8046ecb89ca4",
   "metadata": {},
   "source": [
    "In this tutorial we will cover the basic usage of the [libCellML](https://libcellml.org) library.\n",
    "Some familiarity with [CellML](https://cellml.org) is assumed.\n",
    "We will look at:\n",
    " * Reading in a model\n",
    " * Finding the number of components and the number of variables in a component\n",
    " * Look at the math defined in a component\n",
    " * Determine if the model is a valid CellML 2.0 model or not\n",
    " * Print the model"
   ]
  },
  {
   "cell_type": "markdown",
   "id": "269667cb-efcd-40ea-8dfc-291f6505a959",
   "metadata": {},
   "source": [
    "First we import the libCellML library."
   ]
  },
  {
   "cell_type": "code",
   "execution_count": null,
   "id": "6c942cdd-7281-4f72-8a74-845fc0165afc",
   "metadata": {},
   "outputs": [],
   "source": [
    "import libcellml"
   ]
  },
  {
   "cell_type": "markdown",
   "id": "0adfca59-cc1e-49e1-ae15-c02be01c0490",
   "metadata": {},
   "source": [
    "Now we want to parse a CellML model, we will use an example model included in this repository.\n",
    "libCellML doesn't read files directly from your hard drive or remote location we have to do that for the library."
   ]
  },
  {
   "cell_type": "code",
   "execution_count": null,
   "id": "5567d29b-4f1c-44bb-9d0b-e39fe65512bc",
   "metadata": {},
   "outputs": [],
   "source": [
    "with open('resources/tut_01_model.cellml') as fh:\n",
    "    contents = fh.read()"
   ]
  },
  {
   "cell_type": "markdown",
   "id": "1b023b08-48ac-44a0-a8fd-3595b867fa6b",
   "metadata": {},
   "source": [
    "Now we have read the file for libCellML, we can create a libCellML Parser object to parse the model from the string we have loaded."
   ]
  },
  {
   "cell_type": "code",
   "execution_count": null,
   "id": "d73a7f7f-07fe-4c9e-bd09-708e36703698",
   "metadata": {},
   "outputs": [],
   "source": [
    "p = libcellml.Parser()\n",
    "m = p.parseModel(contents)"
   ]
  },
  {
   "cell_type": "markdown",
   "id": "9fa21b0a-ec65-4910-b8b2-6a6d22ef168a",
   "metadata": {},
   "source": [
    "I'm being a bit lazy here and keeping my variable names very succinct, I only do this in very simple scripts and not in proper code.\n",
    "The *parseModel()* function has returned a libCellML Model object for us to interrogate.\n",
    "So let's take a look at the components and variables within components of the model."
   ]
  },
  {
   "cell_type": "code",
   "execution_count": null,
   "id": "d0809db6-992b-453e-8570-d0a9b2e1f762",
   "metadata": {},
   "outputs": [],
   "source": [
    "c = m.component(0)\n",
    "print(f'Component \"{c.name()}\" contains {c.variableCount()} variable(s).')"
   ]
  },
  {
   "cell_type": "code",
   "execution_count": null,
   "id": "136afdab-a0b6-43b0-b0d6-bdaf3bdaa995",
   "metadata": {},
   "outputs": [],
   "source": [
    "for i in range(c.variableCount()):\n",
    "    v = c.variable(i)\n",
    "    print(f'Variable {i}: {v.name()}')"
   ]
  },
  {
   "cell_type": "markdown",
   "id": "e00517e6-4b12-4669-bf7b-b61914c91630",
   "metadata": {},
   "source": [
    "As you can see the indexing for items is zero-based, just as we see in C++ and Python."
   ]
  },
  {
   "cell_type": "markdown",
   "id": "b36c9ae5-18b2-4220-b3fc-bb745576c84e",
   "metadata": {},
   "source": [
    "Here we have also interrogated the component and variables to find out their names.\n",
    "Look at the [API documentation](https://libcellml.org/documentation/latest/api) for further useful information that can be found out."
   ]
  },
  {
   "cell_type": "markdown",
   "id": "f342b836-a6e9-47a9-bfc4-868c60330981",
   "metadata": {},
   "source": [
    "You can also tell that this is not the most exciting of models, but let's take a look at the math defined in the solitary component."
   ]
  },
  {
   "cell_type": "code",
   "execution_count": null,
   "id": "159dbad0-2f09-4f96-b37a-d470dc53b68a",
   "metadata": {},
   "outputs": [],
   "source": [
    "print(c.math())"
   ]
  },
  {
   "cell_type": "markdown",
   "id": "e6904295-f0c5-4c08-af23-6de57afae643",
   "metadata": {},
   "source": [
    "We find that the math defined in this model is written in MathML and that it defines the equation a = b + c.\n",
    "A worthy equation to encode in CellML."
   ]
  },
  {
   "cell_type": "markdown",
   "id": "c64447cc-5607-46bc-9684-d7635b44ecca",
   "metadata": {},
   "source": [
    "Now let's find out if this model is valid or not?\n",
    "First we need to create a libCellML Validator and then use the *validateModel()* method."
   ]
  },
  {
   "cell_type": "code",
   "execution_count": null,
   "id": "ba3272f7-65e2-44f1-8116-406378249c71",
   "metadata": {},
   "outputs": [],
   "source": [
    "v = libcellml.Validator()\n",
    "v.validateModel(m)"
   ]
  },
  {
   "cell_type": "markdown",
   "id": "1a7a3f3d-22a2-421a-bf7b-3d3861f78f12",
   "metadata": {},
   "source": [
    "To determine if the model is valid we test the number of errors the validator found."
   ]
  },
  {
   "cell_type": "code",
   "execution_count": null,
   "id": "41c699c4-dcbc-4391-8f8b-ec063703300d",
   "metadata": {},
   "outputs": [],
   "source": [
    "print(v.errorCount())"
   ]
  },
  {
   "cell_type": "markdown",
   "id": "8a4fd80e-2b93-47ac-9ced-bcda30747f14",
   "metadata": {},
   "source": [
    "In our case the validator found zero errors thus our model is a valid CellML 2.0 model."
   ]
  },
  {
   "cell_type": "markdown",
   "id": "b3baec49-f078-4a56-a407-0653dd1e729b",
   "metadata": {},
   "source": [
    "The last thing we shall do here is print out the model.\n",
    "To do this we create a libCellML Printer and use the *printModel()* method.\n",
    "Again, as libCellML doesn't read or write to and from files we get a string returned from this method that we can print to the screen."
   ]
  },
  {
   "cell_type": "code",
   "execution_count": null,
   "id": "d38c5058-4f17-4eb4-b92f-0ab020e4b8cc",
   "metadata": {},
   "outputs": [],
   "source": [
    "pr = libcellml.Printer()\n",
    "model_as_string = pr.printModel(m)\n",
    "print(model_as_string)"
   ]
  },
  {
   "cell_type": "markdown",
   "id": "dbb55bdc-05ce-4802-aed8-515e480d94eb",
   "metadata": {},
   "source": [
    "As you can see the XML form of the model is not very easy to look at and even harder to edit (and subsequently maintain validity), and that is only for a very simple model like the one we have here. Best to let a dedicated bit of software handle that for you."
   ]
  },
  {
   "cell_type": "code",
   "execution_count": null,
   "id": "5c119b81-d187-49de-8c66-0f7fd48e62fb",
   "metadata": {},
   "outputs": [],
   "source": []
  }
 ],
 "metadata": {
  "kernelspec": {
   "display_name": "Python 3 (ipykernel)",
   "language": "python",
   "name": "python3"
  },
  "language_info": {
   "codemirror_mode": {
    "name": "ipython",
    "version": 3
   },
   "file_extension": ".py",
   "mimetype": "text/x-python",
   "name": "python",
   "nbconvert_exporter": "python",
   "pygments_lexer": "ipython3",
   "version": "3.12.0"
  }
 },
 "nbformat": 4,
 "nbformat_minor": 5
}
